{
 "cells": [
  {
   "cell_type": "code",
   "execution_count": null,
   "metadata": {},
   "outputs": [],
   "source": [
    "### Setup the installation \n",
    "conda create -n project pip python=3.8\n",
    "conda activate project"
   ]
  },
  {
   "cell_type": "code",
   "execution_count": null,
   "metadata": {},
   "outputs": [],
   "source": [
    "# Install the TensorFlow PIP package\n",
    "pip install --ignore-installed --upgrade tensorflow==2.2.0"
   ]
  },
  {
   "cell_type": "code",
   "execution_count": null,
   "metadata": {},
   "outputs": [],
   "source": [
    "# Install dependency packages\n",
    "conda install -c anaconda cudatoolkit=10.1\n",
    "conda install -c anaconda protobuf=3.13.0\n",
    "conda install cython=0.29.21"
   ]
  },
  {
   "cell_type": "code",
   "execution_count": null,
   "metadata": {},
   "outputs": [],
   "source": [
    "# Verify your Installation\n",
    "python -c \"import tensorflow as tf;print(tf.reduce_sum(tf.random.normal([1000, 1000])))\""
   ]
  },
  {
   "cell_type": "code",
   "execution_count": null,
   "metadata": {},
   "outputs": [],
   "source": [
    "#it is time to install the TensorFlow Object Detection API.\n",
    "mkdir TensorFlow\n",
    "cd TensorFlow"
   ]
  },
  {
   "cell_type": "code",
   "execution_count": null,
   "metadata": {},
   "outputs": [],
   "source": [
    "# clone the TensorFlow Models repository\n",
    "git clone https://github.com/tensorflow/models.git"
   ]
  },
  {
   "cell_type": "code",
   "execution_count": null,
   "metadata": {},
   "outputs": [],
   "source": [
    "# Protobuf Compilation\n",
    "cd models/research/\n",
    "protoc object_detection/protos/*.proto --python_out=."
   ]
  },
  {
   "cell_type": "code",
   "execution_count": null,
   "metadata": {},
   "outputs": [],
   "source": [
    "cd "
   ]
  },
  {
   "cell_type": "code",
   "execution_count": null,
   "metadata": {},
   "outputs": [],
   "source": [
    "# COCO API installation - a dependency of the Object Detection API.\n",
    "git clone https://github.com/cocodataset/cocoapi.git\n",
    "cd cocoapi/PythonAPI\n",
    "make\n",
    "cp -r pycocotools TensorFlow/models/research/"
   ]
  },
  {
   "cell_type": "code",
   "execution_count": null,
   "metadata": {},
   "outputs": [],
   "source": [
    "# From within TensorFlow/models/research/\n",
    "cd TensorFlow/models/research/\n",
    "cp object_detection/packages/tf2/setup.py .\n",
    "python -m pip install . # dont worry with the issues"
   ]
  },
  {
   "cell_type": "code",
   "execution_count": null,
   "metadata": {},
   "outputs": [],
   "source": [
    "# Test your Installation\n",
    "# From within TensorFlow/models/research/\n",
    "python object_detection/builders/model_builder_tf2_test.py"
   ]
  },
  {
   "cell_type": "code",
   "execution_count": null,
   "metadata": {},
   "outputs": [],
   "source": [
    "# Preparing the Workspace\n",
    "cd \n",
    "cd TensorFlow\n",
    "mkdir workspace\n",
    "cd workspace\n",
    "mkdir training_demo\n",
    "cd training_demo"
   ]
  },
  {
   "cell_type": "code",
   "execution_count": null,
   "metadata": {},
   "outputs": [],
   "source": [
    "# structure for training folders\n",
    "mkdir annotations # This folder will be used to store all *.csv files and *.record files, \n",
    "mkdir exported-models #  used to store exported versions of our trained model(s).\n",
    "mkdir images # contains a copy of all the images in our dataset\n",
    "mkdir models # contain a sub-folder for each of training job\n",
    "mkdir pre-trained-models # will contain the downloaded pre-trained models"
   ]
  },
  {
   "cell_type": "code",
   "execution_count": null,
   "metadata": {},
   "outputs": [],
   "source": [
    "cd images"
   ]
  },
  {
   "cell_type": "code",
   "execution_count": null,
   "metadata": {},
   "outputs": [],
   "source": [
    "# Copy both image and xml"
   ]
  },
  {
   "cell_type": "code",
   "execution_count": null,
   "metadata": {},
   "outputs": [],
   "source": [
    "mkdir train\n",
    "cd train\n",
    "cp -vr /home/Data/Cognitive_Data/training_final/* .\n",
    "cd ..\n",
    "mkdir test\n",
    "cd test\n",
    "cp -vr /home/Data/Cognitive_Data/validation_final/* ."
   ]
  },
  {
   "cell_type": "code",
   "execution_count": null,
   "metadata": {},
   "outputs": [],
   "source": [
    "cd ../../"
   ]
  },
  {
   "cell_type": "code",
   "execution_count": null,
   "metadata": {},
   "outputs": [],
   "source": [
    "mkdir scripts\n",
    "cd scripts\n",
    "mkdir preprocessing\n",
    "cd preprocessing"
   ]
  },
  {
   "cell_type": "code",
   "execution_count": null,
   "metadata": {},
   "outputs": [],
   "source": [
    "# Create Label Map\n",
    "cd ../../\n",
    "cd training_demo/annotations\n",
    "nano label_map.pbtxt"
   ]
  },
  {
   "cell_type": "code",
   "execution_count": null,
   "metadata": {},
   "outputs": [],
   "source": [
    "# replace label1,2,3 with label names"
   ]
  },
  {
   "cell_type": "code",
   "execution_count": null,
   "metadata": {},
   "outputs": [],
   "source": [
    "# item {\n",
    "#     id: 1\n",
    "#     name: 'label1'\n",
    "# }\n",
    "\n",
    "# item {\n",
    "#     id: 2\n",
    "#     name: 'label2'\n",
    "# }\n",
    "# item {\n",
    "#     id: 3\n",
    "#     name: 'label3'\n",
    "# }"
   ]
  },
  {
   "cell_type": "code",
   "execution_count": null,
   "metadata": {},
   "outputs": [],
   "source": [
    "# Create TensorFlow Records\n",
    "cd TensorFlow/scripts/preprocessing\n",
    "wget https://tensorflow-object-detection-api-tutorial.readthedocs.io/en/latest/_downloads/9da745a96c2281fec59c2035d0b50d0b/partition_dataset.py"
   ]
  },
  {
   "cell_type": "code",
   "execution_count": null,
   "metadata": {},
   "outputs": [],
   "source": [
    "python generate_tfrecord.py -x C:/Users/Documents/Tensorflow/workspace/training_demo/images/train -l C:/Users/Documents/Tensorflow/workspace/training_demo/annotations/label_map.pbtxt -o C:/Users/Documents/Tensorflow/workspace/training_demo/annotations/train.record\n",
    "python generate_tfrecord.py -x C:/Users/Documents/Tensorflow/workspace/training_demo/images/test -l C:/Users/Documents/Tensorflow2/workspace/training_demo/annotations/label_map.pbtxt -o C:/Users/Documents/Tensorflow/workspace/training_demo/annotations/test.record"
   ]
  },
  {
   "cell_type": "code",
   "execution_count": null,
   "metadata": {},
   "outputs": [],
   "source": [
    "# Download Pre-Trained Model\n",
    "cd training_demo/pre-trained-models\n",
    "wget http://download.tensorflow.org/models/object_detection/tf2/20200711/ssd_resnet152_v1_fpn_1024x1024_coco17_tpu-8.tar.gz"
   ]
  },
  {
   "cell_type": "code",
   "execution_count": null,
   "metadata": {},
   "outputs": [],
   "source": [
    "tar -xvf ssd_resnet152_v1_fpn_1024x1024_coco17_tpu-8.tar.gz "
   ]
  },
  {
   "cell_type": "code",
   "execution_count": null,
   "metadata": {},
   "outputs": [],
   "source": [
    "# Configure the Training Pipeline\n",
    "cd training_demo/models\n",
    "mkdir ssd_resnet152_v1_fpn_1024x1024_coco17_tpu-8\n",
    "cd ssd_resnet152_v1_fpn_1024x1024_coco17_tpu-8"
   ]
  },
  {
   "cell_type": "code",
   "execution_count": null,
   "metadata": {},
   "outputs": [],
   "source": [
    "cp training_demo/pre-trained-models/ssd_resnet50_v1_fpn_640x640_coco17_tpu-8/pipeline.config ."
   ]
  },
  {
   "cell_type": "code",
   "execution_count": null,
   "metadata": {},
   "outputs": [],
   "source": [
    "# look at the changes that we shall need to apply to the pipeline.config file\n",
    " num_classes: 3\n",
    "fine_tune_checkpoint_type: \"detection\"\n",
    "TensorFlow/workspace/training_demo/pre-trained-models/ssd_resnet152_v1_fpn_1024x1024_coco17_tpu-8/checkpoint/ckpt-0\n",
    "TensorFlow/workspace/training_demo/annotations/label_map.pbtxt\n",
    "TensorFlow/workspace/training_demo/annotations/train.record\n",
    "TensorFlow/workspace/training_demo/annotations/test.record\n",
    "batch_size=1 # if it not run"
   ]
  },
  {
   "cell_type": "code",
   "execution_count": null,
   "metadata": {},
   "outputs": [],
   "source": [
    "# Training the Model\n",
    "cp TensorFlow/models/research/object_detection/model_main_tf2.py training_demo\n",
    "cp models/research/object_detection/model_main_tf2.py workspace/training_demo/"
   ]
  },
  {
   "cell_type": "code",
   "execution_count": null,
   "metadata": {},
   "outputs": [],
   "source": [
    "export CUDA_VISIBLE_DEVICES=3\n",
    "## checking\n",
    "# import os\n",
    "# os.environ[\"CUDA_VISIBLE_DEVICES\"]"
   ]
  },
  {
   "cell_type": "code",
   "execution_count": null,
   "metadata": {},
   "outputs": [],
   "source": [
    "conda install -c anaconda cudnn=7.6.5"
   ]
  },
  {
   "cell_type": "code",
   "execution_count": null,
   "metadata": {},
   "outputs": [],
   "source": [
    "python model_main_tf2.py --model_dir=models/my_ssd_resnet50_v1_fpn --pipeline_config_path=models/my_ssd_resnet50_v1_fpn/pipeline.config\n",
    "python model_main_tf2.py --model_dir=models/ssd_resnet152_v1_fpn_1024x1024_coco17_tpu-8/ --pipeline_config_path=models/ssd_resnet152_v1_fpn_1024x1024_coco17_tpu-8/pipeline.config"
   ]
  },
  {
   "cell_type": "code",
   "execution_count": null,
   "metadata": {},
   "outputs": [],
   "source": [
    "# Note:\n",
    "# it seems that it is advisable to allow you model to reach a TotalLoss of at least 2 (ideally 1 and lower) if you want to achieve “fair” detection results. "
   ]
  },
  {
   "cell_type": "code",
   "execution_count": null,
   "metadata": {},
   "outputs": [],
   "source": [
    "export CUDA_VISIBLE_DEVICES=2\n",
    "## checking\n",
    "# import os\n",
    "# os.environ[\"CUDA_VISIBLE_DEVICES\"]"
   ]
  },
  {
   "cell_type": "code",
   "execution_count": null,
   "metadata": {},
   "outputs": [],
   "source": [
    "# Evaluating the Model \n",
    "python model_main_tf2.py --model_dir=models/my_ssd_resnet50_v1_fpn --pipeline_config_path=models/my_ssd_resnet50_v1_fpn/pipeline.config --checkpoint_dir=models/my_ssd_resnet50_v1_fpn"
   ]
  },
  {
   "cell_type": "code",
   "execution_count": null,
   "metadata": {},
   "outputs": [],
   "source": [
    "# Monitor Training Job Progress using TensorBoard\n",
    "cd training_demo\n",
    "tensorboard --logdir=models/my_ssd_resnet50_v1_fpn"
   ]
  },
  {
   "cell_type": "code",
   "execution_count": null,
   "metadata": {},
   "outputs": [],
   "source": [
    "# Exporting a Trained Model\n",
    "cp TensorFlow/models/research/object_detection/exporter_main_v2.py training_demo"
   ]
  },
  {
   "cell_type": "code",
   "execution_count": null,
   "metadata": {},
   "outputs": [],
   "source": [
    "cd training_demo\n",
    "python exporter_main_v2.py --input_type image_tensor --pipeline_config_path models/my_ssd_resnet50_v1_fpn/pipeline.config --trained_checkpoint_dir models/my_ssd_resnet50_v1_fpn/ --output_directory exported-models\\my_ssd_resnet50_v1_fpn"
   ]
  },
  {
   "cell_type": "code",
   "execution_count": null,
   "metadata": {},
   "outputs": [],
   "source": []
  }
 ],
 "metadata": {
  "kernelspec": {
   "display_name": "sujith_venv",
   "language": "python",
   "name": "sujith_venv"
  },
  "language_info": {
   "codemirror_mode": {
    "name": "ipython",
    "version": 3
   },
   "file_extension": ".py",
   "mimetype": "text/x-python",
   "name": "python",
   "nbconvert_exporter": "python",
   "pygments_lexer": "ipython3",
   "version": "3.6.9"
  }
 },
 "nbformat": 4,
 "nbformat_minor": 4
}
