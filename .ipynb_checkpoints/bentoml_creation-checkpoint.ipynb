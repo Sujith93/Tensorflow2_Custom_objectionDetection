{
 "cells": [
  {
   "cell_type": "code",
   "execution_count": 1,
   "metadata": {},
   "outputs": [],
   "source": [
    "# ##### steps\n",
    "# 1. Create a prediction function\n",
    "# 2. Add that prediction function to the class\n",
    "# 3. In class function file:\n",
    "#         a. First, load the packages\n",
    "#         b. Add the dependency files(like pickle)\n",
    "#         c. In the predict function, define those dependency varibales with self.artifacts(.model)\n",
    "# 4. Finally pack the model and dependency files, then save it."
   ]
  },
  {
   "cell_type": "code",
   "execution_count": 2,
   "metadata": {},
   "outputs": [],
   "source": [
    "import numpy as np"
   ]
  },
  {
   "cell_type": "code",
   "execution_count": 3,
   "metadata": {},
   "outputs": [],
   "source": [
    "import sys\n",
    "sys.path.append('/home/second_model/') #path to object detection folder"
   ]
  },
  {
   "cell_type": "code",
   "execution_count": 4,
   "metadata": {},
   "outputs": [],
   "source": [
    "PATH_TO_SAVED_MODEL = \"/home/exported-models/faster_rcnn_inception_resnet_v2_1024x1024_coco17_tpu-8/saved_model/\"\n",
    "PATH_TO_LABELS = \"/home/second_model/label_map.pbtxt\""
   ]
  },
  {
   "cell_type": "code",
   "execution_count": null,
   "metadata": {},
   "outputs": [],
   "source": [
    "import time\n",
    "import json\n",
    "import pandas as pd\n",
    "import tensorflow as tf\n",
    "from object_detection.utils import label_map_util\n",
    "from object_detection.utils import visualization_utils as viz_utils\n",
    "from PIL import Image\n",
    "\n",
    "\n",
    "print('Loading model...', end='')\n",
    "start_time = time.time()\n",
    "\n",
    "# Load saved model and build the detection function\n",
    "detect_fn = tf.saved_model.load(PATH_TO_SAVED_MODEL)\n",
    "\n",
    "end_time = time.time()\n",
    "elapsed_time = end_time - start_time\n",
    "print('Done! Took {} seconds'.format(elapsed_time))"
   ]
  },
  {
   "cell_type": "code",
   "execution_count": null,
   "metadata": {},
   "outputs": [],
   "source": [
    "category_index = label_map_util.create_category_index_from_labelmap(PATH_TO_LABELS,\n",
    "                                                                    use_display_name=True)"
   ]
  },
  {
   "cell_type": "code",
   "execution_count": null,
   "metadata": {},
   "outputs": [],
   "source": [
    "IMAGE_PATHS = '/home/sujith/Work/uber/cognitive/second_model/evaluation_metrics/model_validation/validation_data/test/Ja_Mangos Sushi _ Grill Bar_01_07.png'"
   ]
  },
  {
   "cell_type": "code",
   "execution_count": null,
   "metadata": {},
   "outputs": [],
   "source": [
    "# !pip install git+https://github.com/bentoml/BentoML.git"
   ]
  },
  {
   "cell_type": "markdown",
   "metadata": {},
   "source": [
    "## Define BentoService for model serving"
   ]
  },
  {
   "cell_type": "code",
   "execution_count": null,
   "metadata": {},
   "outputs": [],
   "source": [
    "%%writefile frcnnobjectdetection.py\n",
    "\n",
    "import bentoml\n",
    "import tensorflow as tf\n",
    "import numpy as np\n",
    "from PIL import Image\n",
    "\n",
    "from bentoml.artifact import PickleArtifact\n",
    "from bentoml.handlers import ImageHandler\n",
    "\n",
    "from bentoml.frameworks.tensorflow import TensorflowSavedModelArtifact\n",
    "\n",
    "@bentoml.env(pip_packages=['tensorflow==2.2.0', 'numpy==1.19.2','Pillow==7.2.0'])\n",
    "@bentoml.artifacts([TensorflowSavedModelArtifact('model'),PickleArtifact('category_index')])\n",
    "\n",
    "class FrcnnObjectDetection(bentoml.BentoService):\n",
    "    @bentoml.api(ImageHandler,mb_max_latency=100000, mb_max_batch_size=10000)\n",
    "    def predict(self,image_path):\n",
    "        \n",
    "        # Load saved model and build the detection function\n",
    "        detect_fn = self.artifacts.model\n",
    "        category_index = self.artifacts.category_index\n",
    "        # \n",
    "\n",
    "        print('Running inference ... ')\n",
    "#               .format(image_path))\n",
    "        print(type(image_path))\n",
    "#         image_np = np.array(Image.open(image_path))\n",
    "        image_np = image_path\n",
    "\n",
    "        if len(image_np.shape)==2:\n",
    "            image_np = image_np.reshape((image_np.shape[0],image_np.shape[1],1))\n",
    "\n",
    "        # Things to try:\n",
    "        # Flip horizontally\n",
    "    #         image_np = np.fliplr(image_np).copy()\n",
    "\n",
    "        # Convert image to grayscale\n",
    "        image_np = np.tile(\n",
    "            np.mean(image_np, 2, keepdims=True), (1, 1, 3)).astype(np.uint8)\n",
    "\n",
    "        height, width, color = image_np.shape\n",
    "\n",
    "        # The input needs to be a tensor, convert it using `tf.convert_to_tensor`.\n",
    "        input_tensor = tf.convert_to_tensor(image_np)\n",
    "        # The model expects a batch of images, so add an axis with `tf.newaxis`.\n",
    "        input_tensor = input_tensor[tf.newaxis, ...]\n",
    "\n",
    "        # input_tensor = np.expand_dims(image_np, 0)\n",
    "        detections = detect_fn(input_tensor)\n",
    "\n",
    "        # All outputs are batches tensors.\n",
    "        # Convert to numpy arrays, and take index [0] to remove the batch dimension.\n",
    "        # We're only interested in the first num_detections.\n",
    "        num_detections = int(detections.pop('num_detections'))\n",
    "        detections = {key: value[0, :num_detections].numpy()\n",
    "                       for key, value in detections.items()}\n",
    "\n",
    "        selected_dict= dict()\n",
    "        selected_dict['objects'] = []\n",
    "        score_threshold = 0.5\n",
    "        for i in range(num_detections):\n",
    "            if detections['detection_scores'][i] > score_threshold:\n",
    "                bbox_list = list(detections['detection_boxes'][i])\n",
    "                bbox_list[0]=int(round(bbox_list[0]*height))\n",
    "                bbox_list[1]=int(round(bbox_list[1]*width))\n",
    "                bbox_list[2]=int(round(bbox_list[2]*height))\n",
    "                bbox_list[3]=int(round(bbox_list[3]*width))\n",
    "                selected_dict['objects'].append({\n",
    "                    'label' : category_index[detections['detection_classes'][i]]['name'],\n",
    "                    'bbox' : bbox_list,\n",
    "                    'score' : float(detections['detection_scores'][i])\n",
    "                    })\n",
    "        return selected_dict"
   ]
  },
  {
   "cell_type": "code",
   "execution_count": null,
   "metadata": {
    "scrolled": true
   },
   "outputs": [],
   "source": [
    "# save model\n",
    "from frcnnobjectdetection import FrcnnObjectDetection\n",
    "bento_frcnn = FrcnnObjectDetection()\n",
    "bento_frcnn.pack(\"model\", detect_fn)\n",
    "bento_frcnn.pack('category_index', category_index)\n",
    "saved_path = bento_frcnn.save()"
   ]
  },
  {
   "cell_type": "code",
   "execution_count": null,
   "metadata": {},
   "outputs": [],
   "source": [
    "bento_frcnn.predict(np.array(Image.open(IMAGE_PATHS)))"
   ]
  },
  {
   "cell_type": "code",
   "execution_count": null,
   "metadata": {},
   "outputs": [],
   "source": [
    "saved_path"
   ]
  },
  {
   "cell_type": "code",
   "execution_count": null,
   "metadata": {},
   "outputs": [],
   "source": [
    "saved_path"
   ]
  },
  {
   "cell_type": "code",
   "execution_count": null,
   "metadata": {},
   "outputs": [],
   "source": [
    "# !bentoml serve $saved_path"
   ]
  },
  {
   "cell_type": "code",
   "execution_count": null,
   "metadata": {},
   "outputs": [],
   "source": []
  },
  {
   "cell_type": "code",
   "execution_count": null,
   "metadata": {},
   "outputs": [],
   "source": []
  },
  {
   "cell_type": "code",
   "execution_count": null,
   "metadata": {},
   "outputs": [],
   "source": [
    "# def predict(image_path):\n",
    "\n",
    "#     print('Running inference for {}... '.format(image_path))\n",
    "\n",
    "#     image_np = np.array(Image.open(image_path))\n",
    "    \n",
    "#     if len(image_np.shape)==2:\n",
    "#         image_np = image_np.reshape((image_np.shape[0],image_np.shape[1],1))\n",
    "\n",
    "#     # Things to try:\n",
    "#     # Flip horizontally\n",
    "# #         image_np = np.fliplr(image_np).copy()\n",
    "\n",
    "#     # Convert image to grayscale\n",
    "#     image_np = np.tile(\n",
    "#         np.mean(image_np, 2, keepdims=True), (1, 1, 3)).astype(np.uint8)\n",
    "    \n",
    "#     height, width, color = image_np.shape\n",
    "\n",
    "#     # The input needs to be a tensor, convert it using `tf.convert_to_tensor`.\n",
    "#     input_tensor = tf.convert_to_tensor(image_np)\n",
    "#     # The model expects a batch of images, so add an axis with `tf.newaxis`.\n",
    "#     input_tensor = input_tensor[tf.newaxis, ...]\n",
    "\n",
    "#     # input_tensor = np.expand_dims(image_np, 0)\n",
    "#     detections = detect_fn(input_tensor)\n",
    "\n",
    "#     # All outputs are batches tensors.\n",
    "#     # Convert to numpy arrays, and take index [0] to remove the batch dimension.\n",
    "#     # We're only interested in the first num_detections.\n",
    "#     num_detections = int(detections.pop('num_detections'))\n",
    "#     detections = {key: value[0, :num_detections].numpy()\n",
    "#                    for key, value in detections.items()}\n",
    "    \n",
    "#     selected_dict= dict()\n",
    "#     selected_dict['objects'] = []\n",
    "#     score_threshold = 0.5\n",
    "#     for i in range(num_detections):\n",
    "#         if detections['detection_scores'][i] > score_threshold:\n",
    "#             bbox_list = list(detections['detection_boxes'][i])\n",
    "#             bbox_list[0]=int(round(bbox_list[0]*height))\n",
    "#             bbox_list[1]=int(round(bbox_list[1]*width))\n",
    "#             bbox_list[2]=int(round(bbox_list[2]*height))\n",
    "#             bbox_list[3]=int(round(bbox_list[3]*width))\n",
    "#             selected_dict['objects'].append({\n",
    "#                 'label' : category_index[detections['detection_classes'][i]]['name'],\n",
    "#                 'bbox' : bbox_list,\n",
    "#                 'score' : float(detections['detection_scores'][i])\n",
    "#                 })\n",
    "#     return json.dumps(selected_dict)"
   ]
  },
  {
   "cell_type": "code",
   "execution_count": null,
   "metadata": {},
   "outputs": [],
   "source": [
    "# predict(image_path)"
   ]
  },
  {
   "cell_type": "code",
   "execution_count": null,
   "metadata": {},
   "outputs": [],
   "source": []
  }
 ],
 "metadata": {
  "kernelspec": {
   "display_name": "Python 3",
   "language": "python",
   "name": "python3"
  },
  "language_info": {
   "codemirror_mode": {
    "name": "ipython",
    "version": 3
   },
   "file_extension": ".py",
   "mimetype": "text/x-python",
   "name": "python",
   "nbconvert_exporter": "python",
   "pygments_lexer": "ipython3",
   "version": "3.7.6"
  }
 },
 "nbformat": 4,
 "nbformat_minor": 4
}
