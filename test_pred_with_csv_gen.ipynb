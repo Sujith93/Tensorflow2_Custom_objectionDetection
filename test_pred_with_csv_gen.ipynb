{
 "cells": [
  {
   "cell_type": "code",
   "execution_count": null,
   "metadata": {},
   "outputs": [],
   "source": [
    "PATH_TO_SAVED_MODEL = \"/home/exported-models/faster_rcnn_inception_resnet_v2_1024x1024_coco17_tpu-8/saved_model/\"\n",
    "PATH_TO_LABELS = \"/home/label_map.pbtxt\""
   ]
  },
  {
   "cell_type": "code",
   "execution_count": null,
   "metadata": {},
   "outputs": [],
   "source": [
    "import time\n",
    "import pandas as pd\n",
    "import tensorflow as tf\n",
    "from object_detection.utils import label_map_util\n",
    "from object_detection.utils import visualization_utils as viz_utils\n",
    "%matplotlib inline\n",
    "\n",
    "print('Loading model...', end='')\n",
    "start_time = time.time()\n",
    "\n",
    "# Load saved model and build the detection function\n",
    "detect_fn = tf.saved_model.load(PATH_TO_SAVED_MODEL)\n",
    "\n",
    "end_time = time.time()\n",
    "elapsed_time = end_time - start_time\n",
    "print('Done! Took {} seconds'.format(elapsed_time))"
   ]
  },
  {
   "cell_type": "code",
   "execution_count": null,
   "metadata": {},
   "outputs": [],
   "source": [
    "category_index = label_map_util.create_category_index_from_labelmap(PATH_TO_LABELS,\n",
    "                                                                    use_display_name=True)"
   ]
  },
  {
   "cell_type": "code",
   "execution_count": null,
   "metadata": {},
   "outputs": [],
   "source": [
    "import glob\n",
    "types = ('*.png', '*.jpg') # the tuple of file types\n",
    "files_grabbed = []\n",
    "for files in types:\n",
    "    files_grabbed.extend(glob.glob('/home/evaluation_metrics/model_validation/validation_data/test/'+ files))"
   ]
  },
  {
   "cell_type": "code",
   "execution_count": null,
   "metadata": {},
   "outputs": [],
   "source": [
    "IMAGE_PATHS = files_grabbed\n",
    "IMAGE_PATHS"
   ]
  },
  {
   "cell_type": "code",
   "execution_count": null,
   "metadata": {},
   "outputs": [],
   "source": [
    "# IMAGE_PATHS=['/home/evaluation_metrics/model_validation/validation_data/test/In_Everest Cuisine_01_18.jpg']"
   ]
  },
  {
   "cell_type": "code",
   "execution_count": null,
   "metadata": {},
   "outputs": [],
   "source": [
    "IMAGE_PATHS[0].split('/')[-1]"
   ]
  },
  {
   "cell_type": "code",
   "execution_count": null,
   "metadata": {},
   "outputs": [],
   "source": [
    "# import json\n",
    "# with open(\"/home/evaluation_metrics/model_validation/validation_data/dictionary_label.txt\",\"r\") as f:\n",
    "#     labels = f.read().replace(\"\\n\",\"\")\n",
    "# labels = json.loads(labels)"
   ]
  },
  {
   "cell_type": "code",
   "execution_count": null,
   "metadata": {},
   "outputs": [],
   "source": [
    "test_pred = pd.DataFrame()\n",
    "#     columns = ['filename', 'width','height','class','xmin','ymin','xmax','ymax','score'])"
   ]
  },
  {
   "cell_type": "code",
   "execution_count": null,
   "metadata": {},
   "outputs": [],
   "source": [
    "import numpy as np\n",
    "from PIL import Image\n",
    "import matplotlib.pyplot as plt\n",
    "import warnings\n",
    "warnings.filterwarnings('ignore')   # Suppress Matplotlib warnings\n",
    "\n",
    "def load_image_into_numpy_array(path):\n",
    "    \"\"\"Load an image from file into a numpy array.\n",
    "\n",
    "    Puts image into numpy array to feed into tensorflow graph.\n",
    "    Note that by convention we put it into a numpy array with shape\n",
    "    (height, width, channels), where channels=3 for RGB.\n",
    "\n",
    "    Args:\n",
    "      path: the file path to the image\n",
    "\n",
    "    Returns:\n",
    "      uint8 numpy array with shape (img_height, img_width, 3)\n",
    "    \"\"\"\n",
    "    return np.array(Image.open(path))\n",
    "\n",
    "\n",
    "for image_path in IMAGE_PATHS:\n",
    "    try:\n",
    "        print('Running inference for {}... '.format(image_path.split('/')[-1]), end='')\n",
    "\n",
    "\n",
    "\n",
    "        image_np = load_image_into_numpy_array(image_path)\n",
    "        \n",
    "    \n",
    "        if len(image_np.shape)==2:\n",
    "            image_np = image_np.reshape((image_np.shape[0],image_np.shape[1],1))\n",
    "\n",
    "        # Things to try:\n",
    "        # Flip horizontally\n",
    "        #         image_np = np.fliplr(image_np).copy()\n",
    "\n",
    "        # Convert image to grayscale\n",
    "        image_np = np.tile(\n",
    "            np.mean(image_np, 2, keepdims=True), (1, 1, 3)).astype(np.uint8)\n",
    "        \n",
    "#         print(image_np.shape)\n",
    "        height, width, color = image_np.shape\n",
    "#         print(\"height : \",height)\n",
    "#         print(\"width : \",width)\n",
    "\n",
    "        # The input needs to be a tensor, convert it using `tf.convert_to_tensor`.\n",
    "        input_tensor = tf.convert_to_tensor(image_np)\n",
    "        # The model expects a batch of images, so add an axis with `tf.newaxis`.\n",
    "        input_tensor = input_tensor[tf.newaxis, ...]\n",
    "\n",
    "        # input_tensor = np.expand_dims(image_np, 0)\n",
    "        detections = detect_fn(input_tensor)\n",
    "\n",
    "        # All outputs are batches tensors.\n",
    "        # Convert to numpy arrays, and take index [0] to remove the batch dimension.\n",
    "        # We're only interested in the first num_detections.\n",
    "        num_detections = int(detections.pop('num_detections'))\n",
    "        detections = {key: value[0, :num_detections].numpy()\n",
    "                       for key, value in detections.items()}\n",
    "\n",
    "\n",
    "        for i in range(num_detections):\n",
    "            ll = []\n",
    "            ll.append(image_path)\n",
    "            ll.append(width)\n",
    "            ll.append(height)\n",
    "            ll.append(detections['detection_boxes'][i].tolist())\n",
    "            ll.append(category_index[detections['detection_classes'][i]]['name'])\n",
    "            ll.append(detections['detection_scores'][i])\n",
    "\n",
    "            pre_df =pd.DataFrame([{'filename':ll[0],\n",
    "                                   'width':ll[1],\n",
    "                                   'height':ll[2],\n",
    "                                   'class':ll[4],\n",
    "                                   'xmin':ll[3][1] * width,\n",
    "                                   'ymin':ll[3][0] * height,\n",
    "                                   'xmax':ll[3][3] * width,\n",
    "                                   'ymax':ll[3][2] * height,\n",
    "                                   'score':ll[5]}])\n",
    "            test_pred = pd.concat([test_pred,pre_df],axis=0)\n",
    "        print('Done')\n",
    "    except:\n",
    "        print(\"image has issue :\" + image_path.split('/')[-1])"
   ]
  },
  {
   "cell_type": "code",
   "execution_count": null,
   "metadata": {
    "scrolled": true
   },
   "outputs": [],
   "source": [
    "test_pred"
   ]
  },
  {
   "cell_type": "code",
   "execution_count": null,
   "metadata": {},
   "outputs": [],
   "source": [
    "# test_pred = test_pred[test_pred['score']>=0.5]\n",
    "# test_pred = test_pred[test_pred['class']=='Item']"
   ]
  },
  {
   "cell_type": "code",
   "execution_count": null,
   "metadata": {},
   "outputs": [],
   "source": [
    "# test_pred"
   ]
  },
  {
   "cell_type": "code",
   "execution_count": null,
   "metadata": {},
   "outputs": [],
   "source": [
    "test_pred['filename'].unique()"
   ]
  },
  {
   "cell_type": "code",
   "execution_count": null,
   "metadata": {},
   "outputs": [],
   "source": [
    "test_pred.to_csv(\"/home/evaluation_metrics/model_validation/validation_data/test_pred/test_pred.csv\",index=False)"
   ]
  },
  {
   "cell_type": "code",
   "execution_count": null,
   "metadata": {},
   "outputs": [],
   "source": []
  }
 ],
 "metadata": {
  "kernelspec": {
   "display_name": "Python 3",
   "language": "python",
   "name": "python3"
  },
  "language_info": {
   "codemirror_mode": {
    "name": "ipython",
    "version": 3
   },
   "file_extension": ".py",
   "mimetype": "text/x-python",
   "name": "python",
   "nbconvert_exporter": "python",
   "pygments_lexer": "ipython3",
   "version": "3.7.6"
  }
 },
 "nbformat": 4,
 "nbformat_minor": 4
}
